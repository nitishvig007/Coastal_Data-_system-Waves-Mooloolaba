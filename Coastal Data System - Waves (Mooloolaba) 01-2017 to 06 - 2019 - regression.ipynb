{
 "cells": [
  {
   "cell_type": "markdown",
   "metadata": {},
   "source": [
    "# Coastal Data System - Waves (Mooloolaba) 01-2017 to 06 - 2019\n",
    "\n",
    "######  https://data.qld.gov.au/dataset"
   ]
  },
  {
   "cell_type": "code",
   "execution_count": 1,
   "metadata": {},
   "outputs": [],
   "source": [
    "import numpy as np\n",
    "import pandas as pd\n",
    "import seaborn as sns\n",
    "import matplotlib.pyplot as plt\n",
    "%matplotlib inline"
   ]
  },
  {
   "cell_type": "code",
   "execution_count": 2,
   "metadata": {},
   "outputs": [
    {
     "data": {
      "text/plain": [
       "(43728, 7)"
      ]
     },
     "execution_count": 2,
     "metadata": {},
     "output_type": "execute_result"
    }
   ],
   "source": [
    "df = pd.read_csv(\"Coastal Data System - Waves (Mooloolaba) 01-2017 to 06 - 2019.csv\")\n",
    "df.shape"
   ]
  },
  {
   "cell_type": "markdown",
   "metadata": {},
   "source": [
    "### Exploring the Dataset"
   ]
  },
  {
   "cell_type": "code",
   "execution_count": 3,
   "metadata": {},
   "outputs": [
    {
     "data": {
      "text/html": [
       "<div>\n",
       "<style scoped>\n",
       "    .dataframe tbody tr th:only-of-type {\n",
       "        vertical-align: middle;\n",
       "    }\n",
       "\n",
       "    .dataframe tbody tr th {\n",
       "        vertical-align: top;\n",
       "    }\n",
       "\n",
       "    .dataframe thead th {\n",
       "        text-align: right;\n",
       "    }\n",
       "</style>\n",
       "<table border=\"1\" class=\"dataframe\">\n",
       "  <thead>\n",
       "    <tr style=\"text-align: right;\">\n",
       "      <th></th>\n",
       "      <th>Date/Time</th>\n",
       "      <th>Hs</th>\n",
       "      <th>Hmax</th>\n",
       "      <th>Tz</th>\n",
       "      <th>Tp</th>\n",
       "      <th>Peak Direction</th>\n",
       "      <th>SST</th>\n",
       "    </tr>\n",
       "  </thead>\n",
       "  <tbody>\n",
       "    <tr>\n",
       "      <th>0</th>\n",
       "      <td>01/01/2017 00:00</td>\n",
       "      <td>-99.900</td>\n",
       "      <td>-99.90</td>\n",
       "      <td>-99.900</td>\n",
       "      <td>-99.900</td>\n",
       "      <td>-99.9</td>\n",
       "      <td>-99.90</td>\n",
       "    </tr>\n",
       "    <tr>\n",
       "      <th>1</th>\n",
       "      <td>01/01/2017 00:30</td>\n",
       "      <td>0.875</td>\n",
       "      <td>1.39</td>\n",
       "      <td>4.421</td>\n",
       "      <td>4.506</td>\n",
       "      <td>-99.9</td>\n",
       "      <td>-99.90</td>\n",
       "    </tr>\n",
       "    <tr>\n",
       "      <th>2</th>\n",
       "      <td>01/01/2017 01:00</td>\n",
       "      <td>0.763</td>\n",
       "      <td>1.15</td>\n",
       "      <td>4.520</td>\n",
       "      <td>5.513</td>\n",
       "      <td>49.0</td>\n",
       "      <td>25.65</td>\n",
       "    </tr>\n",
       "    <tr>\n",
       "      <th>3</th>\n",
       "      <td>01/01/2017 01:30</td>\n",
       "      <td>0.770</td>\n",
       "      <td>1.41</td>\n",
       "      <td>4.582</td>\n",
       "      <td>5.647</td>\n",
       "      <td>75.0</td>\n",
       "      <td>25.50</td>\n",
       "    </tr>\n",
       "    <tr>\n",
       "      <th>4</th>\n",
       "      <td>01/01/2017 02:00</td>\n",
       "      <td>0.747</td>\n",
       "      <td>1.16</td>\n",
       "      <td>4.515</td>\n",
       "      <td>5.083</td>\n",
       "      <td>91.0</td>\n",
       "      <td>25.45</td>\n",
       "    </tr>\n",
       "  </tbody>\n",
       "</table>\n",
       "</div>"
      ],
      "text/plain": [
       "          Date/Time      Hs   Hmax      Tz      Tp  Peak Direction    SST\n",
       "0  01/01/2017 00:00 -99.900 -99.90 -99.900 -99.900           -99.9 -99.90\n",
       "1  01/01/2017 00:30   0.875   1.39   4.421   4.506           -99.9 -99.90\n",
       "2  01/01/2017 01:00   0.763   1.15   4.520   5.513            49.0  25.65\n",
       "3  01/01/2017 01:30   0.770   1.41   4.582   5.647            75.0  25.50\n",
       "4  01/01/2017 02:00   0.747   1.16   4.515   5.083            91.0  25.45"
      ]
     },
     "execution_count": 3,
     "metadata": {},
     "output_type": "execute_result"
    }
   ],
   "source": [
    "df.head()"
   ]
  },
  {
   "cell_type": "code",
   "execution_count": 4,
   "metadata": {},
   "outputs": [
    {
     "name": "stdout",
     "output_type": "stream",
     "text": [
      "<class 'pandas.core.frame.DataFrame'>\n",
      "RangeIndex: 43728 entries, 0 to 43727\n",
      "Data columns (total 7 columns):\n",
      "Date/Time         43728 non-null object\n",
      "Hs                43728 non-null float64\n",
      "Hmax              43728 non-null float64\n",
      "Tz                43728 non-null float64\n",
      "Tp                43728 non-null float64\n",
      "Peak Direction    43728 non-null float64\n",
      "SST               43728 non-null float64\n",
      "dtypes: float64(6), object(1)\n",
      "memory usage: 2.3+ MB\n"
     ]
    }
   ],
   "source": [
    "df.info()"
   ]
  },
  {
   "cell_type": "code",
   "execution_count": 5,
   "metadata": {},
   "outputs": [
    {
     "data": {
      "text/html": [
       "<div>\n",
       "<style scoped>\n",
       "    .dataframe tbody tr th:only-of-type {\n",
       "        vertical-align: middle;\n",
       "    }\n",
       "\n",
       "    .dataframe tbody tr th {\n",
       "        vertical-align: top;\n",
       "    }\n",
       "\n",
       "    .dataframe thead th {\n",
       "        text-align: right;\n",
       "    }\n",
       "</style>\n",
       "<table border=\"1\" class=\"dataframe\">\n",
       "  <thead>\n",
       "    <tr style=\"text-align: right;\">\n",
       "      <th></th>\n",
       "      <th>Hs</th>\n",
       "      <th>Hmax</th>\n",
       "      <th>Tz</th>\n",
       "      <th>Tp</th>\n",
       "      <th>Peak Direction</th>\n",
       "      <th>SST</th>\n",
       "    </tr>\n",
       "  </thead>\n",
       "  <tbody>\n",
       "    <tr>\n",
       "      <th>count</th>\n",
       "      <td>43728.000000</td>\n",
       "      <td>43728.000000</td>\n",
       "      <td>43728.000000</td>\n",
       "      <td>43728.000000</td>\n",
       "      <td>43728.000000</td>\n",
       "      <td>43728.000000</td>\n",
       "    </tr>\n",
       "    <tr>\n",
       "      <th>mean</th>\n",
       "      <td>1.041140</td>\n",
       "      <td>1.891779</td>\n",
       "      <td>5.412332</td>\n",
       "      <td>8.794887</td>\n",
       "      <td>97.395310</td>\n",
       "      <td>23.207409</td>\n",
       "    </tr>\n",
       "    <tr>\n",
       "      <th>std</th>\n",
       "      <td>4.485922</td>\n",
       "      <td>4.580826</td>\n",
       "      <td>4.739317</td>\n",
       "      <td>5.358859</td>\n",
       "      <td>28.782966</td>\n",
       "      <td>9.813377</td>\n",
       "    </tr>\n",
       "    <tr>\n",
       "      <th>min</th>\n",
       "      <td>-99.900000</td>\n",
       "      <td>-99.900000</td>\n",
       "      <td>-99.900000</td>\n",
       "      <td>-99.900000</td>\n",
       "      <td>-99.900000</td>\n",
       "      <td>-99.900000</td>\n",
       "    </tr>\n",
       "    <tr>\n",
       "      <th>25%</th>\n",
       "      <td>0.838000</td>\n",
       "      <td>1.410000</td>\n",
       "      <td>4.974000</td>\n",
       "      <td>7.286000</td>\n",
       "      <td>85.000000</td>\n",
       "      <td>21.900000</td>\n",
       "    </tr>\n",
       "    <tr>\n",
       "      <th>50%</th>\n",
       "      <td>1.129000</td>\n",
       "      <td>1.900000</td>\n",
       "      <td>5.525000</td>\n",
       "      <td>8.881000</td>\n",
       "      <td>99.000000</td>\n",
       "      <td>23.950000</td>\n",
       "    </tr>\n",
       "    <tr>\n",
       "      <th>75%</th>\n",
       "      <td>1.542000</td>\n",
       "      <td>2.600000</td>\n",
       "      <td>6.162000</td>\n",
       "      <td>10.663250</td>\n",
       "      <td>116.000000</td>\n",
       "      <td>26.050000</td>\n",
       "    </tr>\n",
       "    <tr>\n",
       "      <th>max</th>\n",
       "      <td>4.257000</td>\n",
       "      <td>7.906000</td>\n",
       "      <td>10.921000</td>\n",
       "      <td>21.121000</td>\n",
       "      <td>358.000000</td>\n",
       "      <td>28.650000</td>\n",
       "    </tr>\n",
       "  </tbody>\n",
       "</table>\n",
       "</div>"
      ],
      "text/plain": [
       "                 Hs          Hmax            Tz            Tp  Peak Direction  \\\n",
       "count  43728.000000  43728.000000  43728.000000  43728.000000    43728.000000   \n",
       "mean       1.041140      1.891779      5.412332      8.794887       97.395310   \n",
       "std        4.485922      4.580826      4.739317      5.358859       28.782966   \n",
       "min      -99.900000    -99.900000    -99.900000    -99.900000      -99.900000   \n",
       "25%        0.838000      1.410000      4.974000      7.286000       85.000000   \n",
       "50%        1.129000      1.900000      5.525000      8.881000       99.000000   \n",
       "75%        1.542000      2.600000      6.162000     10.663250      116.000000   \n",
       "max        4.257000      7.906000     10.921000     21.121000      358.000000   \n",
       "\n",
       "                SST  \n",
       "count  43728.000000  \n",
       "mean      23.207409  \n",
       "std        9.813377  \n",
       "min      -99.900000  \n",
       "25%       21.900000  \n",
       "50%       23.950000  \n",
       "75%       26.050000  \n",
       "max       28.650000  "
      ]
     },
     "execution_count": 5,
     "metadata": {},
     "output_type": "execute_result"
    }
   ],
   "source": [
    "df.describe()"
   ]
  },
  {
   "cell_type": "code",
   "execution_count": 6,
   "metadata": {},
   "outputs": [
    {
     "data": {
      "text/plain": [
       "Index(['Date/Time', 'Hs', 'Hmax', 'Tz', 'Tp', 'Peak Direction', 'SST'], dtype='object')"
      ]
     },
     "execution_count": 6,
     "metadata": {},
     "output_type": "execute_result"
    }
   ],
   "source": [
    "df.columns"
   ]
  },
  {
   "cell_type": "code",
   "execution_count": 7,
   "metadata": {},
   "outputs": [],
   "source": [
    "df.rename(columns={\"Peak Direction\" : \"Direction\"}, inplace = True)"
   ]
  },
  {
   "cell_type": "markdown",
   "metadata": {},
   "source": [
    "it seems that value \"-99.9\" is irrelevant that doesn't help to provide relevant information.\n",
    "We will hence omit that data"
   ]
  },
  {
   "cell_type": "code",
   "execution_count": 8,
   "metadata": {},
   "outputs": [
    {
     "data": {
      "text/html": [
       "<div>\n",
       "<style scoped>\n",
       "    .dataframe tbody tr th:only-of-type {\n",
       "        vertical-align: middle;\n",
       "    }\n",
       "\n",
       "    .dataframe tbody tr th {\n",
       "        vertical-align: top;\n",
       "    }\n",
       "\n",
       "    .dataframe thead th {\n",
       "        text-align: right;\n",
       "    }\n",
       "</style>\n",
       "<table border=\"1\" class=\"dataframe\">\n",
       "  <thead>\n",
       "    <tr style=\"text-align: right;\">\n",
       "      <th></th>\n",
       "      <th>Date/Time</th>\n",
       "      <th>Hs</th>\n",
       "      <th>Hmax</th>\n",
       "      <th>Tz</th>\n",
       "      <th>Tp</th>\n",
       "      <th>Direction</th>\n",
       "      <th>SST</th>\n",
       "    </tr>\n",
       "  </thead>\n",
       "  <tbody>\n",
       "    <tr>\n",
       "      <th>0</th>\n",
       "      <td>01/01/2017 00:00</td>\n",
       "      <td>-99.900</td>\n",
       "      <td>-99.90</td>\n",
       "      <td>-99.900</td>\n",
       "      <td>-99.900</td>\n",
       "      <td>-99.9</td>\n",
       "      <td>-99.9</td>\n",
       "    </tr>\n",
       "    <tr>\n",
       "      <th>1</th>\n",
       "      <td>01/01/2017 00:30</td>\n",
       "      <td>0.875</td>\n",
       "      <td>1.39</td>\n",
       "      <td>4.421</td>\n",
       "      <td>4.506</td>\n",
       "      <td>-99.9</td>\n",
       "      <td>-99.9</td>\n",
       "    </tr>\n",
       "    <tr>\n",
       "      <th>1554</th>\n",
       "      <td>02/02/2017 09:00</td>\n",
       "      <td>-99.900</td>\n",
       "      <td>-99.90</td>\n",
       "      <td>-99.900</td>\n",
       "      <td>-99.900</td>\n",
       "      <td>-99.9</td>\n",
       "      <td>-99.9</td>\n",
       "    </tr>\n",
       "    <tr>\n",
       "      <th>1733</th>\n",
       "      <td>02/06/2017 02:30</td>\n",
       "      <td>1.162</td>\n",
       "      <td>2.30</td>\n",
       "      <td>5.231</td>\n",
       "      <td>7.655</td>\n",
       "      <td>-99.9</td>\n",
       "      <td>-99.9</td>\n",
       "    </tr>\n",
       "    <tr>\n",
       "      <th>1796</th>\n",
       "      <td>02/07/2017 10:00</td>\n",
       "      <td>-99.900</td>\n",
       "      <td>-99.90</td>\n",
       "      <td>-99.900</td>\n",
       "      <td>-99.900</td>\n",
       "      <td>-99.9</td>\n",
       "      <td>-99.9</td>\n",
       "    </tr>\n",
       "  </tbody>\n",
       "</table>\n",
       "</div>"
      ],
      "text/plain": [
       "             Date/Time      Hs   Hmax      Tz      Tp  Direction   SST\n",
       "0     01/01/2017 00:00 -99.900 -99.90 -99.900 -99.900      -99.9 -99.9\n",
       "1     01/01/2017 00:30   0.875   1.39   4.421   4.506      -99.9 -99.9\n",
       "1554  02/02/2017 09:00 -99.900 -99.90 -99.900 -99.900      -99.9 -99.9\n",
       "1733  02/06/2017 02:30   1.162   2.30   5.231   7.655      -99.9 -99.9\n",
       "1796  02/07/2017 10:00 -99.900 -99.90 -99.900 -99.900      -99.9 -99.9"
      ]
     },
     "execution_count": 8,
     "metadata": {},
     "output_type": "execute_result"
    }
   ],
   "source": [
    "df[df[\"SST\"] == -99.9].head()"
   ]
  },
  {
   "cell_type": "code",
   "execution_count": 24,
   "metadata": {},
   "outputs": [],
   "source": [
    "#sns.pairplot(df)"
   ]
  },
  {
   "cell_type": "code",
   "execution_count": 147,
   "metadata": {},
   "outputs": [],
   "source": [
    "df_new = df[df['Direction'] != -99.9]"
   ]
  },
  {
   "cell_type": "code",
   "execution_count": 148,
   "metadata": {},
   "outputs": [
    {
     "data": {
      "text/plain": [
       "(43457, 7)"
      ]
     },
     "execution_count": 148,
     "metadata": {},
     "output_type": "execute_result"
    }
   ],
   "source": [
    "df_new.shape"
   ]
  },
  {
   "cell_type": "code",
   "execution_count": 149,
   "metadata": {},
   "outputs": [
    {
     "data": {
      "text/html": [
       "<div>\n",
       "<style scoped>\n",
       "    .dataframe tbody tr th:only-of-type {\n",
       "        vertical-align: middle;\n",
       "    }\n",
       "\n",
       "    .dataframe tbody tr th {\n",
       "        vertical-align: top;\n",
       "    }\n",
       "\n",
       "    .dataframe thead th {\n",
       "        text-align: right;\n",
       "    }\n",
       "</style>\n",
       "<table border=\"1\" class=\"dataframe\">\n",
       "  <thead>\n",
       "    <tr style=\"text-align: right;\">\n",
       "      <th></th>\n",
       "      <th>Date/Time</th>\n",
       "      <th>Hs</th>\n",
       "      <th>Hmax</th>\n",
       "      <th>Tz</th>\n",
       "      <th>Tp</th>\n",
       "      <th>Direction</th>\n",
       "      <th>SST</th>\n",
       "    </tr>\n",
       "  </thead>\n",
       "  <tbody>\n",
       "    <tr>\n",
       "      <th>2</th>\n",
       "      <td>01/01/2017 01:00</td>\n",
       "      <td>0.763</td>\n",
       "      <td>1.15</td>\n",
       "      <td>4.520</td>\n",
       "      <td>5.513</td>\n",
       "      <td>49.0</td>\n",
       "      <td>25.65</td>\n",
       "    </tr>\n",
       "    <tr>\n",
       "      <th>3</th>\n",
       "      <td>01/01/2017 01:30</td>\n",
       "      <td>0.770</td>\n",
       "      <td>1.41</td>\n",
       "      <td>4.582</td>\n",
       "      <td>5.647</td>\n",
       "      <td>75.0</td>\n",
       "      <td>25.50</td>\n",
       "    </tr>\n",
       "    <tr>\n",
       "      <th>4</th>\n",
       "      <td>01/01/2017 02:00</td>\n",
       "      <td>0.747</td>\n",
       "      <td>1.16</td>\n",
       "      <td>4.515</td>\n",
       "      <td>5.083</td>\n",
       "      <td>91.0</td>\n",
       "      <td>25.45</td>\n",
       "    </tr>\n",
       "    <tr>\n",
       "      <th>5</th>\n",
       "      <td>01/01/2017 02:30</td>\n",
       "      <td>0.718</td>\n",
       "      <td>1.61</td>\n",
       "      <td>4.614</td>\n",
       "      <td>6.181</td>\n",
       "      <td>68.0</td>\n",
       "      <td>25.45</td>\n",
       "    </tr>\n",
       "    <tr>\n",
       "      <th>6</th>\n",
       "      <td>01/01/2017 03:00</td>\n",
       "      <td>0.707</td>\n",
       "      <td>1.34</td>\n",
       "      <td>4.568</td>\n",
       "      <td>4.705</td>\n",
       "      <td>73.0</td>\n",
       "      <td>25.50</td>\n",
       "    </tr>\n",
       "  </tbody>\n",
       "</table>\n",
       "</div>"
      ],
      "text/plain": [
       "          Date/Time     Hs  Hmax     Tz     Tp  Direction    SST\n",
       "2  01/01/2017 01:00  0.763  1.15  4.520  5.513       49.0  25.65\n",
       "3  01/01/2017 01:30  0.770  1.41  4.582  5.647       75.0  25.50\n",
       "4  01/01/2017 02:00  0.747  1.16  4.515  5.083       91.0  25.45\n",
       "5  01/01/2017 02:30  0.718  1.61  4.614  6.181       68.0  25.45\n",
       "6  01/01/2017 03:00  0.707  1.34  4.568  4.705       73.0  25.50"
      ]
     },
     "execution_count": 149,
     "metadata": {},
     "output_type": "execute_result"
    }
   ],
   "source": [
    "df_new.head()"
   ]
  },
  {
   "cell_type": "code",
   "execution_count": 150,
   "metadata": {},
   "outputs": [],
   "source": [
    "df_new.reset_index(inplace = True)"
   ]
  },
  {
   "cell_type": "code",
   "execution_count": 151,
   "metadata": {},
   "outputs": [
    {
     "name": "stderr",
     "output_type": "stream",
     "text": [
      "C:\\Users\\sony\\Anaconda3\\lib\\site-packages\\pandas\\core\\frame.py:3940: SettingWithCopyWarning: \n",
      "A value is trying to be set on a copy of a slice from a DataFrame\n",
      "\n",
      "See the caveats in the documentation: http://pandas.pydata.org/pandas-docs/stable/indexing.html#indexing-view-versus-copy\n",
      "  errors=errors)\n"
     ]
    }
   ],
   "source": [
    "df_new.drop([\"index\"], axis=1, inplace=True)"
   ]
  },
  {
   "cell_type": "code",
   "execution_count": 39,
   "metadata": {},
   "outputs": [],
   "source": [
    "#sns.pairplot(df1)"
   ]
  },
  {
   "cell_type": "markdown",
   "metadata": {},
   "source": [
    "the pariplot shows us that the columns are uncorrelated to each other"
   ]
  },
  {
   "cell_type": "code",
   "execution_count": 111,
   "metadata": {},
   "outputs": [],
   "source": [
    "df_new.drop(\"Date/Time\", axis = 1, inplace = True)"
   ]
  },
  {
   "cell_type": "code",
   "execution_count": 113,
   "metadata": {},
   "outputs": [
    {
     "data": {
      "text/html": [
       "<div>\n",
       "<style scoped>\n",
       "    .dataframe tbody tr th:only-of-type {\n",
       "        vertical-align: middle;\n",
       "    }\n",
       "\n",
       "    .dataframe tbody tr th {\n",
       "        vertical-align: top;\n",
       "    }\n",
       "\n",
       "    .dataframe thead th {\n",
       "        text-align: right;\n",
       "    }\n",
       "</style>\n",
       "<table border=\"1\" class=\"dataframe\">\n",
       "  <thead>\n",
       "    <tr style=\"text-align: right;\">\n",
       "      <th></th>\n",
       "      <th>Hs</th>\n",
       "      <th>Hmax</th>\n",
       "      <th>Tz</th>\n",
       "      <th>Tp</th>\n",
       "      <th>Direction</th>\n",
       "      <th>SST</th>\n",
       "    </tr>\n",
       "  </thead>\n",
       "  <tbody>\n",
       "    <tr>\n",
       "      <th>0</th>\n",
       "      <td>0.763</td>\n",
       "      <td>1.15</td>\n",
       "      <td>4.520</td>\n",
       "      <td>5.513</td>\n",
       "      <td>49.0</td>\n",
       "      <td>25.65</td>\n",
       "    </tr>\n",
       "    <tr>\n",
       "      <th>1</th>\n",
       "      <td>0.770</td>\n",
       "      <td>1.41</td>\n",
       "      <td>4.582</td>\n",
       "      <td>5.647</td>\n",
       "      <td>75.0</td>\n",
       "      <td>25.50</td>\n",
       "    </tr>\n",
       "  </tbody>\n",
       "</table>\n",
       "</div>"
      ],
      "text/plain": [
       "      Hs  Hmax     Tz     Tp  Direction    SST\n",
       "0  0.763  1.15  4.520  5.513       49.0  25.65\n",
       "1  0.770  1.41  4.582  5.647       75.0  25.50"
      ]
     },
     "execution_count": 113,
     "metadata": {},
     "output_type": "execute_result"
    }
   ],
   "source": [
    "df_new.head(2)"
   ]
  },
  {
   "cell_type": "markdown",
   "metadata": {},
   "source": [
    "##### This section below is for prediction on column \"Direction\". \n",
    "##### Scroll down to see other vision.\n",
    "##### This gave us only 0.22 accuracy"
   ]
  },
  {
   "cell_type": "code",
   "execution_count": null,
   "metadata": {},
   "outputs": [],
   "source": []
  },
  {
   "cell_type": "code",
   "execution_count": 114,
   "metadata": {},
   "outputs": [],
   "source": [
    "from sklearn.preprocessing import StandardScaler\n",
    "scaler = StandardScaler()"
   ]
  },
  {
   "cell_type": "code",
   "execution_count": 63,
   "metadata": {},
   "outputs": [
    {
     "data": {
      "text/plain": [
       "\"\\ndf1[:, 'Hs'] = scaler.fit_transform(df1[:, 'Hs'])\\ndf1['Hmax'] = scaler.fit_transform(df1['Hmax'])\\ndf1['Tz'] = scaler.fit_transform(df1['Tz'])\\ndf1['Tp'] = scaler.fit_transform(df1['Tp'])\\ndf1['SST'] = scaler.fit_transform(df1['SST'])\\n\""
      ]
     },
     "execution_count": 63,
     "metadata": {},
     "output_type": "execute_result"
    }
   ],
   "source": [
    "\"\"\"\n",
    "df1[:, 'Hs'] = scaler.fit_transform(df1[:, 'Hs'])\n",
    "df1['Hmax'] = scaler.fit_transform(df1['Hmax'])\n",
    "df1['Tz'] = scaler.fit_transform(df1['Tz'])\n",
    "df1['Tp'] = scaler.fit_transform(df1['Tp'])\n",
    "df1['SST'] = scaler.fit_transform(df1['SST'])\n",
    "\"\"\""
   ]
  },
  {
   "cell_type": "code",
   "execution_count": null,
   "metadata": {},
   "outputs": [],
   "source": []
  },
  {
   "cell_type": "code",
   "execution_count": 115,
   "metadata": {},
   "outputs": [],
   "source": [
    "df_direction = df_new['Direction']"
   ]
  },
  {
   "cell_type": "code",
   "execution_count": 116,
   "metadata": {},
   "outputs": [
    {
     "data": {
      "text/plain": [
       "0    49.0\n",
       "1    75.0\n",
       "Name: Direction, dtype: float64"
      ]
     },
     "execution_count": 116,
     "metadata": {},
     "output_type": "execute_result"
    }
   ],
   "source": [
    "df_direction.head(2)"
   ]
  },
  {
   "cell_type": "code",
   "execution_count": 120,
   "metadata": {},
   "outputs": [
    {
     "name": "stderr",
     "output_type": "stream",
     "text": [
      "C:\\Users\\sony\\Anaconda3\\lib\\site-packages\\pandas\\core\\frame.py:3940: SettingWithCopyWarning: \n",
      "A value is trying to be set on a copy of a slice from a DataFrame\n",
      "\n",
      "See the caveats in the documentation: http://pandas.pydata.org/pandas-docs/stable/indexing.html#indexing-view-versus-copy\n",
      "  errors=errors)\n"
     ]
    }
   ],
   "source": [
    "df_new.drop('Direction', axis = 1, inplace = True)"
   ]
  },
  {
   "cell_type": "code",
   "execution_count": 121,
   "metadata": {},
   "outputs": [],
   "source": [
    "df_scale = scaler.fit_transform(df_new)"
   ]
  },
  {
   "cell_type": "code",
   "execution_count": 122,
   "metadata": {},
   "outputs": [
    {
     "data": {
      "text/plain": [
       "array([[-0.47124844, -0.7559064 , -0.85545245, -1.36621743,  0.76220616],\n",
       "       [-0.46419709, -0.54527632, -0.80690059, -1.31378278,  0.69497297],\n",
       "       [-0.48736581, -0.74780524, -0.85936792, -1.5344779 ,  0.6725619 ],\n",
       "       ...,\n",
       "       [ 0.93297754,  1.09115739,  2.78437038,  1.52042776, -0.89621253],\n",
       "       [ 0.86246404,  0.61318913,  2.42258076,  0.7663861 , -0.89621253],\n",
       "       [ 0.70028299,  0.72660533,  2.26831116,  1.2613849 , -0.89621253]])"
      ]
     },
     "execution_count": 122,
     "metadata": {},
     "output_type": "execute_result"
    }
   ],
   "source": [
    "df_scale"
   ]
  },
  {
   "cell_type": "code",
   "execution_count": 123,
   "metadata": {},
   "outputs": [],
   "source": [
    "df_frame_scaled = pd.DataFrame(df_scale, columns= [\"Hs\", \"Hmax\", \"Tz\", \"Tp\", \"SST\"])"
   ]
  },
  {
   "cell_type": "code",
   "execution_count": 124,
   "metadata": {},
   "outputs": [
    {
     "data": {
      "text/html": [
       "<div>\n",
       "<style scoped>\n",
       "    .dataframe tbody tr th:only-of-type {\n",
       "        vertical-align: middle;\n",
       "    }\n",
       "\n",
       "    .dataframe tbody tr th {\n",
       "        vertical-align: top;\n",
       "    }\n",
       "\n",
       "    .dataframe thead th {\n",
       "        text-align: right;\n",
       "    }\n",
       "</style>\n",
       "<table border=\"1\" class=\"dataframe\">\n",
       "  <thead>\n",
       "    <tr style=\"text-align: right;\">\n",
       "      <th></th>\n",
       "      <th>Hs</th>\n",
       "      <th>Hmax</th>\n",
       "      <th>Tz</th>\n",
       "      <th>Tp</th>\n",
       "      <th>SST</th>\n",
       "    </tr>\n",
       "  </thead>\n",
       "  <tbody>\n",
       "    <tr>\n",
       "      <th>0</th>\n",
       "      <td>-0.471248</td>\n",
       "      <td>-0.755906</td>\n",
       "      <td>-0.855452</td>\n",
       "      <td>-1.366217</td>\n",
       "      <td>0.762206</td>\n",
       "    </tr>\n",
       "    <tr>\n",
       "      <th>1</th>\n",
       "      <td>-0.464197</td>\n",
       "      <td>-0.545276</td>\n",
       "      <td>-0.806901</td>\n",
       "      <td>-1.313783</td>\n",
       "      <td>0.694973</td>\n",
       "    </tr>\n",
       "    <tr>\n",
       "      <th>2</th>\n",
       "      <td>-0.487366</td>\n",
       "      <td>-0.747805</td>\n",
       "      <td>-0.859368</td>\n",
       "      <td>-1.534478</td>\n",
       "      <td>0.672562</td>\n",
       "    </tr>\n",
       "    <tr>\n",
       "      <th>3</th>\n",
       "      <td>-0.516579</td>\n",
       "      <td>-0.383253</td>\n",
       "      <td>-0.781842</td>\n",
       "      <td>-1.104827</td>\n",
       "      <td>0.672562</td>\n",
       "    </tr>\n",
       "    <tr>\n",
       "      <th>4</th>\n",
       "      <td>-0.527659</td>\n",
       "      <td>-0.601984</td>\n",
       "      <td>-0.817864</td>\n",
       "      <td>-1.682391</td>\n",
       "      <td>0.694973</td>\n",
       "    </tr>\n",
       "  </tbody>\n",
       "</table>\n",
       "</div>"
      ],
      "text/plain": [
       "         Hs      Hmax        Tz        Tp       SST\n",
       "0 -0.471248 -0.755906 -0.855452 -1.366217  0.762206\n",
       "1 -0.464197 -0.545276 -0.806901 -1.313783  0.694973\n",
       "2 -0.487366 -0.747805 -0.859368 -1.534478  0.672562\n",
       "3 -0.516579 -0.383253 -0.781842 -1.104827  0.672562\n",
       "4 -0.527659 -0.601984 -0.817864 -1.682391  0.694973"
      ]
     },
     "execution_count": 124,
     "metadata": {},
     "output_type": "execute_result"
    }
   ],
   "source": [
    "df_frame_scaled.head()"
   ]
  },
  {
   "cell_type": "code",
   "execution_count": 125,
   "metadata": {},
   "outputs": [],
   "source": [
    "df_final = pd.concat([df_frame_scaled, df_direction.reindex(df_frame_scaled.index)], axis = 1)"
   ]
  },
  {
   "cell_type": "code",
   "execution_count": 126,
   "metadata": {},
   "outputs": [
    {
     "data": {
      "text/html": [
       "<div>\n",
       "<style scoped>\n",
       "    .dataframe tbody tr th:only-of-type {\n",
       "        vertical-align: middle;\n",
       "    }\n",
       "\n",
       "    .dataframe tbody tr th {\n",
       "        vertical-align: top;\n",
       "    }\n",
       "\n",
       "    .dataframe thead th {\n",
       "        text-align: right;\n",
       "    }\n",
       "</style>\n",
       "<table border=\"1\" class=\"dataframe\">\n",
       "  <thead>\n",
       "    <tr style=\"text-align: right;\">\n",
       "      <th></th>\n",
       "      <th>Hs</th>\n",
       "      <th>Hmax</th>\n",
       "      <th>Tz</th>\n",
       "      <th>Tp</th>\n",
       "      <th>SST</th>\n",
       "      <th>Direction</th>\n",
       "    </tr>\n",
       "  </thead>\n",
       "  <tbody>\n",
       "    <tr>\n",
       "      <th>0</th>\n",
       "      <td>-0.471248</td>\n",
       "      <td>-0.755906</td>\n",
       "      <td>-0.855452</td>\n",
       "      <td>-1.366217</td>\n",
       "      <td>0.762206</td>\n",
       "      <td>49.0</td>\n",
       "    </tr>\n",
       "    <tr>\n",
       "      <th>1</th>\n",
       "      <td>-0.464197</td>\n",
       "      <td>-0.545276</td>\n",
       "      <td>-0.806901</td>\n",
       "      <td>-1.313783</td>\n",
       "      <td>0.694973</td>\n",
       "      <td>75.0</td>\n",
       "    </tr>\n",
       "    <tr>\n",
       "      <th>2</th>\n",
       "      <td>-0.487366</td>\n",
       "      <td>-0.747805</td>\n",
       "      <td>-0.859368</td>\n",
       "      <td>-1.534478</td>\n",
       "      <td>0.672562</td>\n",
       "      <td>91.0</td>\n",
       "    </tr>\n",
       "    <tr>\n",
       "      <th>3</th>\n",
       "      <td>-0.516579</td>\n",
       "      <td>-0.383253</td>\n",
       "      <td>-0.781842</td>\n",
       "      <td>-1.104827</td>\n",
       "      <td>0.672562</td>\n",
       "      <td>68.0</td>\n",
       "    </tr>\n",
       "    <tr>\n",
       "      <th>4</th>\n",
       "      <td>-0.527659</td>\n",
       "      <td>-0.601984</td>\n",
       "      <td>-0.817864</td>\n",
       "      <td>-1.682391</td>\n",
       "      <td>0.694973</td>\n",
       "      <td>73.0</td>\n",
       "    </tr>\n",
       "    <tr>\n",
       "      <th>5</th>\n",
       "      <td>-0.505498</td>\n",
       "      <td>-0.707299</td>\n",
       "      <td>-0.647149</td>\n",
       "      <td>-1.768869</td>\n",
       "      <td>0.694973</td>\n",
       "      <td>63.0</td>\n",
       "    </tr>\n",
       "    <tr>\n",
       "      <th>6</th>\n",
       "      <td>-0.501469</td>\n",
       "      <td>-0.715401</td>\n",
       "      <td>-0.560226</td>\n",
       "      <td>-1.550521</td>\n",
       "      <td>0.694973</td>\n",
       "      <td>68.0</td>\n",
       "    </tr>\n",
       "    <tr>\n",
       "      <th>7</th>\n",
       "      <td>-0.523630</td>\n",
       "      <td>-0.642490</td>\n",
       "      <td>-0.464688</td>\n",
       "      <td>-0.221264</td>\n",
       "      <td>0.694973</td>\n",
       "      <td>66.0</td>\n",
       "    </tr>\n",
       "    <tr>\n",
       "      <th>8</th>\n",
       "      <td>-0.536725</td>\n",
       "      <td>-0.788311</td>\n",
       "      <td>-0.583719</td>\n",
       "      <td>-1.729738</td>\n",
       "      <td>0.717384</td>\n",
       "      <td>64.0</td>\n",
       "    </tr>\n",
       "    <tr>\n",
       "      <th>9</th>\n",
       "      <td>-0.548813</td>\n",
       "      <td>-0.764008</td>\n",
       "      <td>-0.671425</td>\n",
       "      <td>-1.484391</td>\n",
       "      <td>0.717384</td>\n",
       "      <td>56.0</td>\n",
       "    </tr>\n",
       "  </tbody>\n",
       "</table>\n",
       "</div>"
      ],
      "text/plain": [
       "         Hs      Hmax        Tz        Tp       SST  Direction\n",
       "0 -0.471248 -0.755906 -0.855452 -1.366217  0.762206       49.0\n",
       "1 -0.464197 -0.545276 -0.806901 -1.313783  0.694973       75.0\n",
       "2 -0.487366 -0.747805 -0.859368 -1.534478  0.672562       91.0\n",
       "3 -0.516579 -0.383253 -0.781842 -1.104827  0.672562       68.0\n",
       "4 -0.527659 -0.601984 -0.817864 -1.682391  0.694973       73.0\n",
       "5 -0.505498 -0.707299 -0.647149 -1.768869  0.694973       63.0\n",
       "6 -0.501469 -0.715401 -0.560226 -1.550521  0.694973       68.0\n",
       "7 -0.523630 -0.642490 -0.464688 -0.221264  0.694973       66.0\n",
       "8 -0.536725 -0.788311 -0.583719 -1.729738  0.717384       64.0\n",
       "9 -0.548813 -0.764008 -0.671425 -1.484391  0.717384       56.0"
      ]
     },
     "execution_count": 126,
     "metadata": {},
     "output_type": "execute_result"
    }
   ],
   "source": [
    "df_final.head(10)"
   ]
  },
  {
   "cell_type": "code",
   "execution_count": 128,
   "metadata": {},
   "outputs": [
    {
     "data": {
      "text/plain": [
       "(43457, 6)"
      ]
     },
     "execution_count": 128,
     "metadata": {},
     "output_type": "execute_result"
    }
   ],
   "source": [
    "df_final.shape"
   ]
  },
  {
   "cell_type": "code",
   "execution_count": null,
   "metadata": {},
   "outputs": [],
   "source": []
  },
  {
   "cell_type": "code",
   "execution_count": 137,
   "metadata": {},
   "outputs": [],
   "source": [
    "from sklearn.model_selection import train_test_split\n",
    "from sklearn.linear_model import LinearRegression\n",
    "from sklearn import metrics\n",
    "model = LinearRegression()"
   ]
  },
  {
   "cell_type": "code",
   "execution_count": 133,
   "metadata": {},
   "outputs": [],
   "source": [
    "X_train, X_test, y_train, y_test = train_test_split(df_final.drop(\"Direction\", axis = 1), df_final[\"Direction\"],test_size = 0.25, random_state = 40)"
   ]
  },
  {
   "cell_type": "code",
   "execution_count": 136,
   "metadata": {},
   "outputs": [],
   "source": [
    "model.fit(X_train, y_train)\n",
    "predict = model.predict(X_test)"
   ]
  },
  {
   "cell_type": "code",
   "execution_count": 138,
   "metadata": {},
   "outputs": [
    {
     "data": {
      "image/png": "[encoded data removed]",
      "text/plain": [
       "<Figure size 432x288 with 1 Axes>"
      ]
     },
     "metadata": {
      "needs_background": "light"
     },
     "output_type": "display_data"
    }
   ],
   "source": [
    "plt.scatter(y_test, predict)\n",
    "plt.show()"
   ]
  },
  {
   "cell_type": "code",
   "execution_count": 141,
   "metadata": {},
   "outputs": [
    {
     "name": "stdout",
     "output_type": "stream",
     "text": [
      "metrics.mean_absolute_error :  16.97785155665341\n",
      "metrics.mean_squared_error :  517.0802690454748\n",
      "np.sqrt(metrics.mean_squared_error :  22.73939904758863\n",
      "metrics.r2_score :  0.1283316520376907\n"
     ]
    }
   ],
   "source": [
    "print(\"metrics.mean_absolute_error : \", metrics.mean_absolute_error(y_test, predict))\n",
    "print(\"metrics.mean_squared_error : \", metrics.mean_squared_error(y_test, predict))\n",
    "print(\"np.sqrt(metrics.mean_squared_error : \", np.sqrt(metrics.mean_squared_error(y_test, predict)))\n",
    "print(\"metrics.r2_score : \", metrics.r2_score(y_test, predict))"
   ]
  },
  {
   "cell_type": "code",
   "execution_count": 143,
   "metadata": {},
   "outputs": [],
   "source": [
    "import statsmodels.formula.api as smf\n"
   ]
  },
  {
   "cell_type": "code",
   "execution_count": 145,
   "metadata": {},
   "outputs": [
    {
     "data": {
      "text/html": [
       "<table class=\"simpletable\">\n",
       "<caption>OLS Regression Results</caption>\n",
       "<tr>\n",
       "  <th>Dep. Variable:</th>        <td>Direction</td>    <th>  R-squared:         </th>  <td>   0.130</td>  \n",
       "</tr>\n",
       "<tr>\n",
       "  <th>Model:</th>                   <td>OLS</td>       <th>  Adj. R-squared:    </th>  <td>   0.129</td>  \n",
       "</tr>\n",
       "<tr>\n",
       "  <th>Method:</th>             <td>Least Squares</td>  <th>  F-statistic:       </th>  <td>   1293.</td>  \n",
       "</tr>\n",
       "<tr>\n",
       "  <th>Date:</th>             <td>Mon, 07 Oct 2019</td> <th>  Prob (F-statistic):</th>   <td>  0.00</td>   \n",
       "</tr>\n",
       "<tr>\n",
       "  <th>Time:</th>                 <td>16:15:50</td>     <th>  Log-Likelihood:    </th> <td>-1.9725e+05</td>\n",
       "</tr>\n",
       "<tr>\n",
       "  <th>No. Observations:</th>      <td> 43457</td>      <th>  AIC:               </th>  <td>3.945e+05</td> \n",
       "</tr>\n",
       "<tr>\n",
       "  <th>Df Residuals:</th>          <td> 43451</td>      <th>  BIC:               </th>  <td>3.946e+05</td> \n",
       "</tr>\n",
       "<tr>\n",
       "  <th>Df Model:</th>              <td>     5</td>      <th>                     </th>      <td> </td>     \n",
       "</tr>\n",
       "<tr>\n",
       "  <th>Covariance Type:</th>      <td>nonrobust</td>    <th>                     </th>      <td> </td>     \n",
       "</tr>\n",
       "</table>\n",
       "<table class=\"simpletable\">\n",
       "<tr>\n",
       "      <td></td>         <th>coef</th>     <th>std err</th>      <th>t</th>      <th>P>|t|</th>  <th>[0.025</th>    <th>0.975]</th>  \n",
       "</tr>\n",
       "<tr>\n",
       "  <th>Intercept</th> <td>   98.6257</td> <td>    0.109</td> <td>  907.671</td> <td> 0.000</td> <td>   98.413</td> <td>   98.839</td>\n",
       "</tr>\n",
       "<tr>\n",
       "  <th>Hs</th>        <td>   -6.0920</td> <td>    0.426</td> <td>  -14.302</td> <td> 0.000</td> <td>   -6.927</td> <td>   -5.257</td>\n",
       "</tr>\n",
       "<tr>\n",
       "  <th>Hmax</th>      <td>    4.6423</td> <td>    0.391</td> <td>   11.869</td> <td> 0.000</td> <td>    3.876</td> <td>    5.409</td>\n",
       "</tr>\n",
       "<tr>\n",
       "  <th>Tz</th>        <td>   -1.1015</td> <td>    0.194</td> <td>   -5.684</td> <td> 0.000</td> <td>   -1.481</td> <td>   -0.722</td>\n",
       "</tr>\n",
       "<tr>\n",
       "  <th>Tp</th>        <td>    8.8869</td> <td>    0.139</td> <td>   64.152</td> <td> 0.000</td> <td>    8.615</td> <td>    9.158</td>\n",
       "</tr>\n",
       "<tr>\n",
       "  <th>SST</th>       <td>   -2.5698</td> <td>    0.113</td> <td>  -22.726</td> <td> 0.000</td> <td>   -2.791</td> <td>   -2.348</td>\n",
       "</tr>\n",
       "</table>\n",
       "<table class=\"simpletable\">\n",
       "<tr>\n",
       "  <th>Omnibus:</th>       <td>2905.295</td> <th>  Durbin-Watson:     </th> <td>   0.414</td> \n",
       "</tr>\n",
       "<tr>\n",
       "  <th>Prob(Omnibus):</th>  <td> 0.000</td>  <th>  Jarque-Bera (JB):  </th> <td>14526.480</td>\n",
       "</tr>\n",
       "<tr>\n",
       "  <th>Skew:</th>           <td>-0.035</td>  <th>  Prob(JB):          </th> <td>    0.00</td> \n",
       "</tr>\n",
       "<tr>\n",
       "  <th>Kurtosis:</th>       <td> 5.832</td>  <th>  Cond. No.          </th> <td>    8.81</td> \n",
       "</tr>\n",
       "</table><br/><br/>Warnings:<br/>[1] Standard Errors assume that the covariance matrix of the errors is correctly specified."
      ],
      "text/plain": [
       "<class 'statsmodels.iolib.summary.Summary'>\n",
       "\"\"\"\n",
       "                            OLS Regression Results                            \n",
       "==============================================================================\n",
       "Dep. Variable:              Direction   R-squared:                       0.130\n",
       "Model:                            OLS   Adj. R-squared:                  0.129\n",
       "Method:                 Least Squares   F-statistic:                     1293.\n",
       "Date:                Mon, 07 Oct 2019   Prob (F-statistic):               0.00\n",
       "Time:                        16:15:50   Log-Likelihood:            -1.9725e+05\n",
       "No. Observations:               43457   AIC:                         3.945e+05\n",
       "Df Residuals:                   43451   BIC:                         3.946e+05\n",
       "Df Model:                           5                                         \n",
       "Covariance Type:            nonrobust                                         \n",
       "==============================================================================\n",
       "                 coef    std err          t      P>|t|      [0.025      0.975]\n",
       "------------------------------------------------------------------------------\n",
       "Intercept     98.6257      0.109    907.671      0.000      98.413      98.839\n",
       "Hs            -6.0920      0.426    -14.302      0.000      -6.927      -5.257\n",
       "Hmax           4.6423      0.391     11.869      0.000       3.876       5.409\n",
       "Tz            -1.1015      0.194     -5.684      0.000      -1.481      -0.722\n",
       "Tp             8.8869      0.139     64.152      0.000       8.615       9.158\n",
       "SST           -2.5698      0.113    -22.726      0.000      -2.791      -2.348\n",
       "==============================================================================\n",
       "Omnibus:                     2905.295   Durbin-Watson:                   0.414\n",
       "Prob(Omnibus):                  0.000   Jarque-Bera (JB):            14526.480\n",
       "Skew:                          -0.035   Prob(JB):                         0.00\n",
       "Kurtosis:                       5.832   Cond. No.                         8.81\n",
       "==============================================================================\n",
       "\n",
       "Warnings:\n",
       "[1] Standard Errors assume that the covariance matrix of the errors is correctly specified.\n",
       "\"\"\""
      ]
     },
     "execution_count": 145,
     "metadata": {},
     "output_type": "execute_result"
    }
   ],
   "source": [
    "est = smf.ols(\"Direction ~ Hs + Hmax + Tz + Tp + SST\", df_final).fit()\n",
    "est.summary()"
   ]
  },
  {
   "cell_type": "code",
   "execution_count": null,
   "metadata": {},
   "outputs": [],
   "source": []
  },
  {
   "cell_type": "code",
   "execution_count": null,
   "metadata": {},
   "outputs": [],
   "source": []
  },
  {
   "attachments": {},
   "cell_type": "markdown",
   "metadata": {},
   "source": [
    "##### This section below is for prediction on column \"Hmax\". \n",
    "##### Scroll down to see other approach."
   ]
  },
  {
   "cell_type": "code",
   "execution_count": 155,
   "metadata": {},
   "outputs": [
    {
     "data": {
      "text/html": [
       "<div>\n",
       "<style scoped>\n",
       "    .dataframe tbody tr th:only-of-type {\n",
       "        vertical-align: middle;\n",
       "    }\n",
       "\n",
       "    .dataframe tbody tr th {\n",
       "        vertical-align: top;\n",
       "    }\n",
       "\n",
       "    .dataframe thead th {\n",
       "        text-align: right;\n",
       "    }\n",
       "</style>\n",
       "<table border=\"1\" class=\"dataframe\">\n",
       "  <thead>\n",
       "    <tr style=\"text-align: right;\">\n",
       "      <th></th>\n",
       "      <th>Hmax</th>\n",
       "      <th>Tz</th>\n",
       "      <th>Tp</th>\n",
       "      <th>Direction</th>\n",
       "      <th>SST</th>\n",
       "    </tr>\n",
       "  </thead>\n",
       "  <tbody>\n",
       "    <tr>\n",
       "      <th>0</th>\n",
       "      <td>1.15</td>\n",
       "      <td>4.520</td>\n",
       "      <td>5.513</td>\n",
       "      <td>49.0</td>\n",
       "      <td>25.65</td>\n",
       "    </tr>\n",
       "    <tr>\n",
       "      <th>1</th>\n",
       "      <td>1.41</td>\n",
       "      <td>4.582</td>\n",
       "      <td>5.647</td>\n",
       "      <td>75.0</td>\n",
       "      <td>25.50</td>\n",
       "    </tr>\n",
       "  </tbody>\n",
       "</table>\n",
       "</div>"
      ],
      "text/plain": [
       "   Hmax     Tz     Tp  Direction    SST\n",
       "0  1.15  4.520  5.513       49.0  25.65\n",
       "1  1.41  4.582  5.647       75.0  25.50"
      ]
     },
     "execution_count": 155,
     "metadata": {},
     "output_type": "execute_result"
    }
   ],
   "source": [
    "df_new.head(2)"
   ]
  },
  {
   "cell_type": "code",
   "execution_count": 153,
   "metadata": {},
   "outputs": [],
   "source": [
    "from sklearn.preprocessing import StandardScaler\n",
    "scaler = StandardScaler()"
   ]
  },
  {
   "cell_type": "code",
   "execution_count": 154,
   "metadata": {},
   "outputs": [
    {
     "name": "stderr",
     "output_type": "stream",
     "text": [
      "C:\\Users\\sony\\Anaconda3\\lib\\site-packages\\pandas\\core\\frame.py:3940: SettingWithCopyWarning: \n",
      "A value is trying to be set on a copy of a slice from a DataFrame\n",
      "\n",
      "See the caveats in the documentation: http://pandas.pydata.org/pandas-docs/stable/indexing.html#indexing-view-versus-copy\n",
      "  errors=errors)\n"
     ]
    }
   ],
   "source": [
    "df_new.drop(['Date/Time', 'Hs'], axis = 1, inplace = True)"
   ]
  },
  {
   "cell_type": "code",
   "execution_count": 156,
   "metadata": {},
   "outputs": [],
   "source": [
    "from sklearn.tree import DecisionTreeRegressor\n",
    "from sklearn.model_selection import train_test_split\n",
    "from sklearn import metrics\n",
    "model = DecisionTreeRegressor()"
   ]
  },
  {
   "cell_type": "markdown",
   "metadata": {},
   "source": [
    "#### Taking \"T\" as target column\n"
   ]
  },
  {
   "cell_type": "code",
   "execution_count": 167,
   "metadata": {},
   "outputs": [],
   "source": [
    "x = df_new.drop([\"Hmax\"], axis = 1).values\n",
    "y = df_new[\"Hmax\"].values"
   ]
  },
  {
   "cell_type": "code",
   "execution_count": 169,
   "metadata": {},
   "outputs": [],
   "source": [
    "x[:, :] = scaler.fit_transform(x[:, :])"
   ]
  },
  {
   "cell_type": "code",
   "execution_count": 173,
   "metadata": {},
   "outputs": [],
   "source": [
    "x = pd.DataFrame(x, columns = [\"Tz\", \"Tp\", \"Direction\", \"SST\"])"
   ]
  },
  {
   "cell_type": "code",
   "execution_count": 175,
   "metadata": {},
   "outputs": [],
   "source": [
    "xtrain, xtest, ytrain, ytest = train_test_split(x, y, test_size = 0.2, random_state = 111)"
   ]
  },
  {
   "cell_type": "code",
   "execution_count": 176,
   "metadata": {},
   "outputs": [
    {
     "data": {
      "text/plain": [
       "DecisionTreeRegressor(criterion='mse', max_depth=None, max_features=None,\n",
       "                      max_leaf_nodes=None, min_impurity_decrease=0.0,\n",
       "                      min_impurity_split=None, min_samples_leaf=1,\n",
       "                      min_samples_split=2, min_weight_fraction_leaf=0.0,\n",
       "                      presort=False, random_state=None, splitter='best')"
      ]
     },
     "execution_count": 176,
     "metadata": {},
     "output_type": "execute_result"
    }
   ],
   "source": [
    "model.fit(xtrain, ytrain)"
   ]
  },
  {
   "cell_type": "code",
   "execution_count": 177,
   "metadata": {},
   "outputs": [],
   "source": [
    "predict = model.predict(xtest)"
   ]
  },
  {
   "cell_type": "code",
   "execution_count": 178,
   "metadata": {},
   "outputs": [
    {
     "data": {
      "image/png": "[encoded data removed]",
      "text/plain": [
       "<Figure size 432x288 with 1 Axes>"
      ]
     },
     "metadata": {
      "needs_background": "light"
     },
     "output_type": "display_data"
    }
   ],
   "source": [
    "plt.scatter(ytest, predict)\n",
    "plt.show()"
   ]
  },
  {
   "cell_type": "code",
   "execution_count": 179,
   "metadata": {},
   "outputs": [
    {
     "name": "stdout",
     "output_type": "stream",
     "text": [
      "metrics.mean_absolute_error :  0.5769118729866543\n",
      "metrics.mean_squared_error :  0.6825239012885413\n",
      "np.sqrt(metrics.mean_squared_error :  0.8261500476841609\n",
      "metrics.r2_score :  0.14500443101933658\n"
     ]
    }
   ],
   "source": [
    "print(\"metrics.mean_absolute_error : \", metrics.mean_absolute_error(ytest, predict))\n",
    "print(\"metrics.mean_squared_error : \", metrics.mean_squared_error(ytest, predict))\n",
    "print(\"np.sqrt(metrics.mean_squared_error : \", np.sqrt(metrics.mean_squared_error(ytest, predict)))\n",
    "print(\"metrics.r2_score : \", metrics.r2_score(ytest, predict))"
   ]
  },
  {
   "cell_type": "code",
   "execution_count": 180,
   "metadata": {},
   "outputs": [],
   "source": [
    "import statsmodels.formula.api as smf\n"
   ]
  },
  {
   "cell_type": "code",
   "execution_count": 61,
   "metadata": {},
   "outputs": [
    {
     "data": {
      "text/html": [
       "<table class=\"simpletable\">\n",
       "<caption>OLS Regression Results</caption>\n",
       "<tr>\n",
       "  <th>Dep. Variable:</th>            <td>T</td>        <th>  R-squared:         </th> <td>   0.921</td> \n",
       "</tr>\n",
       "<tr>\n",
       "  <th>Model:</th>                   <td>OLS</td>       <th>  Adj. R-squared:    </th> <td>   0.921</td> \n",
       "</tr>\n",
       "<tr>\n",
       "  <th>Method:</th>             <td>Least Squares</td>  <th>  F-statistic:       </th> <td>1.490e+04</td>\n",
       "</tr>\n",
       "<tr>\n",
       "  <th>Date:</th>             <td>Sun, 06 Oct 2019</td> <th>  Prob (F-statistic):</th>  <td>  0.00</td>  \n",
       "</tr>\n",
       "<tr>\n",
       "  <th>Time:</th>                 <td>16:50:04</td>     <th>  Log-Likelihood:    </th> <td> -1363.9</td> \n",
       "</tr>\n",
       "<tr>\n",
       "  <th>No. Observations:</th>      <td>  8991</td>      <th>  AIC:               </th> <td>   2744.</td> \n",
       "</tr>\n",
       "<tr>\n",
       "  <th>Df Residuals:</th>          <td>  8983</td>      <th>  BIC:               </th> <td>   2801.</td> \n",
       "</tr>\n",
       "<tr>\n",
       "  <th>Df Model:</th>              <td>     7</td>      <th>                     </th>     <td> </td>    \n",
       "</tr>\n",
       "<tr>\n",
       "  <th>Covariance Type:</th>      <td>nonrobust</td>    <th>                     </th>     <td> </td>    \n",
       "</tr>\n",
       "</table>\n",
       "<table class=\"simpletable\">\n",
       "<tr>\n",
       "      <td></td>         <th>coef</th>     <th>std err</th>      <th>t</th>      <th>P>|t|</th>  <th>[0.025</th>    <th>0.975]</th>  \n",
       "</tr>\n",
       "<tr>\n",
       "  <th>Intercept</th> <td> 8.102e-16</td> <td>    0.003</td> <td> 2.73e-13</td> <td> 1.000</td> <td>   -0.006</td> <td>    0.006</td>\n",
       "</tr>\n",
       "<tr>\n",
       "  <th>CO_GT</th>     <td>    0.0054</td> <td>    0.004</td> <td>    1.317</td> <td> 0.188</td> <td>   -0.003</td> <td>    0.013</td>\n",
       "</tr>\n",
       "<tr>\n",
       "  <th>NMHC_GT</th>   <td>    0.0046</td> <td>    0.003</td> <td>    1.405</td> <td> 0.160</td> <td>   -0.002</td> <td>    0.011</td>\n",
       "</tr>\n",
       "<tr>\n",
       "  <th>C6H6_GT</th>   <td>    0.0528</td> <td>    0.005</td> <td>   11.403</td> <td> 0.000</td> <td>    0.044</td> <td>    0.062</td>\n",
       "</tr>\n",
       "<tr>\n",
       "  <th>NOx_GT</th>    <td>   -0.0638</td> <td>    0.008</td> <td>   -8.095</td> <td> 0.000</td> <td>   -0.079</td> <td>   -0.048</td>\n",
       "</tr>\n",
       "<tr>\n",
       "  <th>NO2_GT</th>    <td>    0.0337</td> <td>    0.007</td> <td>    4.910</td> <td> 0.000</td> <td>    0.020</td> <td>    0.047</td>\n",
       "</tr>\n",
       "<tr>\n",
       "  <th>RH</th>        <td>   -0.6930</td> <td>    0.003</td> <td> -199.170</td> <td> 0.000</td> <td>   -0.700</td> <td>   -0.686</td>\n",
       "</tr>\n",
       "<tr>\n",
       "  <th>AH</th>        <td>    0.7608</td> <td>    0.003</td> <td>  219.187</td> <td> 0.000</td> <td>    0.754</td> <td>    0.768</td>\n",
       "</tr>\n",
       "</table>\n",
       "<table class=\"simpletable\">\n",
       "<tr>\n",
       "  <th>Omnibus:</th>       <td>627.884</td> <th>  Durbin-Watson:     </th> <td>   0.097</td>\n",
       "</tr>\n",
       "<tr>\n",
       "  <th>Prob(Omnibus):</th> <td> 0.000</td>  <th>  Jarque-Bera (JB):  </th> <td>1773.056</td>\n",
       "</tr>\n",
       "<tr>\n",
       "  <th>Skew:</th>          <td> 0.377</td>  <th>  Prob(JB):          </th> <td>    0.00</td>\n",
       "</tr>\n",
       "<tr>\n",
       "  <th>Kurtosis:</th>      <td> 5.041</td>  <th>  Cond. No.          </th> <td>    5.77</td>\n",
       "</tr>\n",
       "</table><br/><br/>Warnings:<br/>[1] Standard Errors assume that the covariance matrix of the errors is correctly specified."
      ],
      "text/plain": [
       "<class 'statsmodels.iolib.summary.Summary'>\n",
       "\"\"\"\n",
       "                            OLS Regression Results                            \n",
       "==============================================================================\n",
       "Dep. Variable:                      T   R-squared:                       0.921\n",
       "Model:                            OLS   Adj. R-squared:                  0.921\n",
       "Method:                 Least Squares   F-statistic:                 1.490e+04\n",
       "Date:                Sun, 06 Oct 2019   Prob (F-statistic):               0.00\n",
       "Time:                        16:50:04   Log-Likelihood:                -1363.9\n",
       "No. Observations:                8991   AIC:                             2744.\n",
       "Df Residuals:                    8983   BIC:                             2801.\n",
       "Df Model:                           7                                         \n",
       "Covariance Type:            nonrobust                                         \n",
       "==============================================================================\n",
       "                 coef    std err          t      P>|t|      [0.025      0.975]\n",
       "------------------------------------------------------------------------------\n",
       "Intercept   8.102e-16      0.003   2.73e-13      1.000      -0.006       0.006\n",
       "CO_GT          0.0054      0.004      1.317      0.188      -0.003       0.013\n",
       "NMHC_GT        0.0046      0.003      1.405      0.160      -0.002       0.011\n",
       "C6H6_GT        0.0528      0.005     11.403      0.000       0.044       0.062\n",
       "NOx_GT        -0.0638      0.008     -8.095      0.000      -0.079      -0.048\n",
       "NO2_GT         0.0337      0.007      4.910      0.000       0.020       0.047\n",
       "RH            -0.6930      0.003   -199.170      0.000      -0.700      -0.686\n",
       "AH             0.7608      0.003    219.187      0.000       0.754       0.768\n",
       "==============================================================================\n",
       "Omnibus:                      627.884   Durbin-Watson:                   0.097\n",
       "Prob(Omnibus):                  0.000   Jarque-Bera (JB):             1773.056\n",
       "Skew:                           0.377   Prob(JB):                         0.00\n",
       "Kurtosis:                       5.041   Cond. No.                         5.77\n",
       "==============================================================================\n",
       "\n",
       "Warnings:\n",
       "[1] Standard Errors assume that the covariance matrix of the errors is correctly specified.\n",
       "\"\"\""
      ]
     },
     "execution_count": 61,
     "metadata": {},
     "output_type": "execute_result"
    }
   ],
   "source": [
    "est = smf.ols(\"T ~ CO_GT + NMHC_GT + C6H6_GT + NOx_GT + NO2_GT + RH + AH\", df_new_frame).fit()\n",
    "est.summary()"
   ]
  },
  {
   "cell_type": "markdown",
   "metadata": {},
   "source": [
    "Quiet hard to understand, what shall be the column"
   ]
  },
  {
   "cell_type": "code",
   "execution_count": null,
   "metadata": {},
   "outputs": [],
   "source": []
  },
  {
   "cell_type": "code",
   "execution_count": null,
   "metadata": {},
   "outputs": [],
   "source": []
  }
 ],
 "metadata": {
  "kernelspec": {
   "display_name": "Python 3",
   "language": "python",
   "name": "python3"
  },
  "language_info": {
   "codemirror_mode": {
    "name": "ipython",
    "version": 3
   },
   "file_extension": ".py",
   "mimetype": "text/x-python",
   "name": "python",
   "nbconvert_exporter": "python",
   "pygments_lexer": "ipython3",
   "version": "3.7.3"
  }
 },
 "nbformat": 4,
 "nbformat_minor": 2
}
